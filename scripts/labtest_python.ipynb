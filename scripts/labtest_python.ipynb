{
 "cells": [
  {
   "cell_type": "code",
   "execution_count": null,
   "id": "00f12920-4b1b-4f29-979c-1e91b00bb683",
   "metadata": {},
   "outputs": [],
   "source": [
    "# ----------------------------------\n",
    "# Start test\n",
    "# ----------------------------------\n",
    "print(\"Starting Python script test\")"
   ]
  },
  {
   "cell_type": "code",
   "execution_count": null,
   "id": "5e484e01-3bda-418b-ac0d-ad98afe76f36",
   "metadata": {},
   "outputs": [],
   "source": [
    "# ----------------------------------\n",
    "# Import libraries\n",
    "# ----------------------------------\n",
    "import matplotlib.pyplot as plt\n",
    "import numpy as np\n",
    "import pandas as pd\n",
    "import seaborn as sns\n",
    "\n",
    "from pathlib import Path"
   ]
  },
  {
   "cell_type": "code",
   "execution_count": null,
   "id": "df1b9dec-7650-4831-b99a-9f804d6dfc28",
   "metadata": {},
   "outputs": [],
   "source": [
    "# ----------------------------------\n",
    "# Configure files and directories\n",
    "# ----------------------------------\n",
    "# Define directory locations\n",
    "dir_scripts = Path()\n",
    "dir_raw = Path(\"../data\")\n",
    "dir_processed = Path(\"../data/processed\")\n",
    "\n",
    "# Check directories\n",
    "assert dir_scripts.cwd().stem == \"scripts\", \\\n",
    "    \"Execute this script from the /scripts directory\"\n",
    "\n",
    "assert dir_raw.exists(), \\\n",
    "    \"/data directory does not exist\"\n",
    "\n",
    "if not dir_processed.exists():\n",
    "    dir_processed.mkdir()\n",
    "    print(\"Created\", dir_processed.absolute())"
   ]
  },
  {
   "cell_type": "code",
   "execution_count": null,
   "id": "75cc08db-a823-4bc7-af86-5aa8fc7b5364",
   "metadata": {},
   "outputs": [],
   "source": [
    "# ----------------------------------\n",
    "# NumPy\n",
    "# ----------------------------------\n",
    "x = np.random.rand(10)\n",
    "y = np.random.rand(10)\n",
    "z = x @ y\n",
    "\n",
    "print(\"Dot product of 2 random vectors:\", z)"
   ]
  },
  {
   "cell_type": "code",
   "execution_count": null,
   "id": "ad39e700-0851-4717-b103-1f173add14fa",
   "metadata": {},
   "outputs": [],
   "source": [
    "# ----------------------------------\n",
    "# Pandas\n",
    "# ----------------------------------\n",
    "# Import data\n",
    "species = pd.read_csv(dir_raw.joinpath(\"species.csv\"), index_col=\"species_id\")\n",
    "surveys = pd.read_csv(dir_raw.joinpath(\"surveys.csv\"), index_col=\"record_id\")\n",
    "print(\"Species:\", species.shape)\n",
    "print(\"Surveys:\", surveys.shape)\n",
    "\n",
    "# Join soe data frames\n",
    "df_left = surveys.join(species, on=\"species_id\", how=\"left\")\n",
    "print(\"Left join of species onto surveys:\", df_left.shape)\n",
    "\n",
    "df_inner = surveys.join(species, on=\"species_id\", how=\"inner\")\n",
    "print(\"Inner join of species and surveys:\", df_inner.shape)\n",
    "\n",
    "print(\"Unique species in species table:\", len(species.index))\n",
    "print(\"Unique species in survey table:\", len(pd.unique(surveys[\"species_id\"])))\n",
    "\n",
    "# Save output\n",
    "df_inner.to_csv(dir_processed.joinpath(\"inner.csv\"), index=False)\n",
    "print(\"Saved output to\", dir_processed.joinpath(\"inner.csv\"))"
   ]
  },
  {
   "cell_type": "code",
   "execution_count": null,
   "id": "7bccf45a-a864-4ddb-8fb6-65d558653e36",
   "metadata": {},
   "outputs": [],
   "source": [
    "# ----------------------------------\n",
    "# Matplotlib\n",
    "# ----------------------------------\n",
    "penguins = pd.read_csv(dir_raw.joinpath(\"penguins.csv\"))\n",
    "\n",
    "fig, ax = plt.subplots(figsize=(8,6))\n",
    "ax.bar(penguins[\"species\"], penguins[\"body_mass_g\"])\n",
    "fig.savefig(dir_processed.joinpath(\"penguins_plt.png\"), dpi=300)\n",
    "print(\"Saved output to\", dir_processed.joinpath(\"penguins_plt.png\"))"
   ]
  },
  {
   "cell_type": "code",
   "execution_count": null,
   "id": "d524200a-4f8e-4e27-821d-bdac4b32dba4",
   "metadata": {},
   "outputs": [],
   "source": [
    "# ----------------------------------\n",
    "# Seaborn\n",
    "# ----------------------------------\n",
    "fig2 = sns.catplot(data=penguins, kind=\"bar\",\n",
    "                   x=\"species\", y=\"body_mass_g\", hue=\"sex\",\n",
    "                   palette=\"dark\", alpha=.6, height=6,\n",
    "                   errorbar='sd')\n",
    "fig2.savefig(dir_processed.joinpath(\"penguins_sns.png\"), dpi=300)\n",
    "print(\"Saved output to\", dir_processed.joinpath(\"penguins_sns.png\"))"
   ]
  },
  {
   "cell_type": "code",
   "execution_count": null,
   "id": "9b28da1e-c347-46e5-b17c-6e1a49166876",
   "metadata": {},
   "outputs": [],
   "source": [
    "# ----------------------------------\n",
    "# End test\n",
    "# ----------------------------------\n",
    "print(\"Completed Python script test\")"
   ]
  }
 ],
 "metadata": {
  "kernelspec": {
   "display_name": "Python 3 (ipykernel)",
   "language": "python",
   "name": "python3"
  },
  "language_info": {
   "codemirror_mode": {
    "name": "ipython",
    "version": 3
   },
   "file_extension": ".py",
   "mimetype": "text/x-python",
   "name": "python",
   "nbconvert_exporter": "python",
   "pygments_lexer": "ipython3",
   "version": "3.12.7"
  }
 },
 "nbformat": 4,
 "nbformat_minor": 5
}
