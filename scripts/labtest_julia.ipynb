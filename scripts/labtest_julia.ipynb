{
 "cells": [
  {
   "cell_type": "code",
   "execution_count": null,
   "id": "79669288-a9c6-422c-acbc-42d6b9b89d06",
   "metadata": {},
   "outputs": [],
   "source": [
    "# ----------------------------------\n",
    "# Start test\n",
    "# ----------------------------------\n",
    "print(\"Starting Julia notebook test\")"
   ]
  },
  {
   "cell_type": "code",
   "execution_count": null,
   "id": "0b3cf0ab-6d5e-4866-a8ad-c013b3b72c13",
   "metadata": {},
   "outputs": [],
   "source": [
    "# -------------------------\n",
    "# Import libraries\n",
    "# -------------------------\n",
    "using Pkg\n",
    "Pkg.add(\"DataStructures\")\n",
    "using DataStructures"
   ]
  },
  {
   "cell_type": "code",
   "execution_count": null,
   "id": "bb374531-87d6-462f-8074-a17b05d0f40c",
   "metadata": {},
   "outputs": [],
   "source": [
    "# ----------------------------------\n",
    "# Configure files and directories\n",
    "# ----------------------------------\n",
    "files = [\"pettigrew_letters_ORIGINAL.txt\", \"moby_dick.txt\", \"war_and_peace.txt\"]"
   ]
  },
  {
   "cell_type": "code",
   "execution_count": null,
   "id": "2aaaac0a-70ce-4d0c-8949-e3a21a3c5f5a",
   "metadata": {},
   "outputs": [],
   "source": [
    "# ----------------------------------\n",
    "# Text processing\n",
    "# ----------------------------------\n",
    "# Tokenize a file and get unique tokens\n",
    "function tokenize(infile)\n",
    "    # Get an array of file lines\n",
    "    f = open(join([\"../data\", infile] , \"/\"), \"r\")\n",
    "    text = readlines(f)\n",
    "    close(f)\n",
    "\n",
    "    # Segment tokens, do cleanup, and count them\n",
    "    tokens = DefaultDict{String, Int64}(0)\n",
    "\n",
    "    for line in text\n",
    "        line_tokens = split(strip(lowercase(line)))\n",
    "        for token in line_tokens\n",
    "            stripped_token = strip(ispunct, token)\n",
    "            tokens[stripped_token] += 1\n",
    "        end\n",
    "    end\n",
    "\n",
    "    # Delete zero-width spaces from our count\n",
    "    delete!(tokens, \"\")\n",
    "\n",
    "    # Sort tokens by count\n",
    "    sorted_tokens = sort(collect(tokens), by = x -> x.second, rev = true)\n",
    "\n",
    "    return sorted_tokens\n",
    "end\n",
    "\n",
    "# Profile and collect stats\n",
    "for infile in files\n",
    "    println(\"Unique tokens from \", infile)\n",
    "    sorted_tokens = @time tokenize(infile)\n",
    "    println(\"Entries:\", length(sorted_tokens))\n",
    "    println(\"Top 10 tokens\")\n",
    "    for item in sorted_tokens[begin:10]\n",
    "        println(item)\n",
    "    end\n",
    "    println()\n",
    "end"
   ]
  },
  {
   "cell_type": "code",
   "execution_count": null,
   "id": "575e5cb1-1b59-4856-bea3-52fa4d554f89",
   "metadata": {},
   "outputs": [],
   "source": [
    "# ----------------------------------\n",
    "# End test\n",
    "# ----------------------------------\n",
    "print(\"Completed Julia notebook test\")"
   ]
  }
 ],
 "metadata": {
  "kernelspec": {
   "display_name": "Julia 1.11.4",
   "language": "julia",
   "name": "julia-1.11"
  },
  "language_info": {
   "file_extension": ".jl",
   "mimetype": "application/julia",
   "name": "julia",
   "version": "1.11.4"
  }
 },
 "nbformat": 4,
 "nbformat_minor": 5
}
